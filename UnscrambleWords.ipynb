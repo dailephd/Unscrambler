{
 "cells": [
  {
   "cell_type": "markdown",
   "metadata": {
    "collapsed": true,
    "pycharm": {
     "name": "#%% md\n"
    }
   },
   "source": [
    "# Unscrambler Program"
   ]
  },
  {
   "cell_type": "markdown",
   "source": [
    "This program generates list of possible English words from input strings, using NLTK library"
   ],
   "metadata": {
    "collapsed": false
   }
  },
  {
   "cell_type": "code",
   "execution_count": 1,
   "outputs": [],
   "source": [
    "#Input function\n",
    "def input_msg():\n",
    "    value = input(\"Please enter your letters:\\n\")\n",
    "    print (f'You have entered {value}')\n",
    "    return value"
   ],
   "metadata": {
    "collapsed": false,
    "pycharm": {
     "name": "#%%\n"
    }
   }
  },
  {
   "cell_type": "code",
   "execution_count": 2,
   "outputs": [],
   "source": [
    "#Convert string into list of separate letters\n",
    "def string_convert(letters):\n",
    "    list_of_letters = list(letters)\n",
    "    return list_of_letters"
   ],
   "metadata": {
    "collapsed": false,
    "pycharm": {
     "name": "#%%\n"
    }
   }
  },
  {
   "cell_type": "code",
   "execution_count": 3,
   "outputs": [],
   "source": [
    "#Find all permutations of letters\n",
    "def perm(letters):\n",
    "    all_perms = []\n",
    "    for r in range(2,len(letters)+1):\n",
    "        perms_objects = itertools.permutations(letters, r)\n",
    "        perms_object = [\"\".join(i) for i in perms_objects]\n",
    "        perms_list = list(perms_object)\n",
    "        all_perms += perms_list\n",
    "    return all_perms"
   ],
   "metadata": {
    "collapsed": false,
    "pycharm": {
     "name": "#%%\n"
    }
   }
  },
  {
   "cell_type": "code",
   "execution_count": 4,
   "outputs": [],
   "source": [
    "# Check existence of English words with corresponding input strings\n",
    "def check_exist_nltk(perm):\n",
    "    correct=[]\n",
    "    for letters in perm:\n",
    "        if (letters in words.words()) == True:\n",
    "            correct.append(letters)\n",
    "            next\n",
    "        else:\n",
    "            pass\n",
    "    print(f'Possible words are \\n{correct}')\n",
    "    return correct"
   ],
   "metadata": {
    "collapsed": false,
    "pycharm": {
     "name": "#%%\n"
    }
   }
  },
  {
   "cell_type": "code",
   "execution_count": 5,
   "outputs": [
    {
     "name": "stderr",
     "output_type": "stream",
     "text": [
      "[nltk_data] Downloading package words to\n",
      "[nltk_data]     C:\\Users\\daile\\AppData\\Roaming\\nltk_data...\n",
      "[nltk_data]   Package words is already up-to-date!\n"
     ]
    },
    {
     "name": "stdout",
     "output_type": "stream",
     "text": [
      "You have entered cold\n",
      "Possible words are \n",
      "['od', 'lo', 'do', 'col', 'cod', 'old', 'lod', 'doc', 'cold', 'clod']\n"
     ]
    }
   ],
   "source": [
    "# Call main function\n",
    "if __name__ == \"__main__\":\n",
    "    import itertools\n",
    "    import nltk\n",
    "    nltk.download('words')\n",
    "    from nltk.corpus import words\n",
    "\n",
    "    value= input_msg()\n",
    "    list_of_letters=string_convert(value)\n",
    "    perm=perm(list_of_letters)\n",
    "    check=check_exist_nltk(perm)\n",
    "\n",
    "\n"
   ],
   "metadata": {
    "collapsed": false,
    "pycharm": {
     "name": "#%%\n"
    }
   }
  }
 ],
 "metadata": {
  "kernelspec": {
   "name": "pycharm-aff415f7",
   "language": "python",
   "display_name": "PyCharm (mass_spec_analysis)"
  },
  "language_info": {
   "codemirror_mode": {
    "name": "ipython",
    "version": 2
   },
   "file_extension": ".py",
   "mimetype": "text/x-python",
   "name": "python",
   "nbconvert_exporter": "python",
   "pygments_lexer": "ipython2",
   "version": "2.7.6"
  }
 },
 "nbformat": 4,
 "nbformat_minor": 0
}